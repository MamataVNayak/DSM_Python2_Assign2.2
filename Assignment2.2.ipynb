{
 "cells": [
  {
   "cell_type": "code",
   "execution_count": 28,
   "metadata": {},
   "outputs": [
    {
     "name": "stdout",
     "output_type": "stream",
     "text": [
      "\n",
      "\n",
      "*\n",
      "\n",
      "**\n",
      "\n",
      "***\n",
      "\n",
      "****\n",
      "\n",
      "*****\n",
      "\n",
      "****\n",
      "\n",
      "***\n",
      "\n",
      "**\n",
      "\n",
      "*"
     ]
    }
   ],
   "source": [
    "#Assignment 2.2\n",
    "#Create given pattern using for loop in python\n",
    "indexLines = 9\n",
    "indexMedian = (int(indexLines)//2)+1\n",
    "#print(indexMedian)\n",
    "k=0\n",
    "for i in range(1,indexLines+1):\n",
    "    #print(\"\\n\"+str(i))\n",
    "    print(\"\\n\")\n",
    "    if i<=indexMedian:\n",
    "       k=i\n",
    "    else:\n",
    "       k=(indexLines-i)+1\n",
    "    #print(k)\n",
    "    for j in range(0,k):\n",
    "        \n",
    "        print(\"*\",end='')"
   ]
  },
  {
   "cell_type": "code",
   "execution_count": null,
   "metadata": {},
   "outputs": [],
   "source": []
  }
 ],
 "metadata": {
  "kernelspec": {
   "display_name": "Python 3",
   "language": "python",
   "name": "python3"
  },
  "language_info": {
   "codemirror_mode": {
    "name": "ipython",
    "version": 3
   },
   "file_extension": ".py",
   "mimetype": "text/x-python",
   "name": "python",
   "nbconvert_exporter": "python",
   "pygments_lexer": "ipython3",
   "version": "3.6.4"
  }
 },
 "nbformat": 4,
 "nbformat_minor": 2
}
